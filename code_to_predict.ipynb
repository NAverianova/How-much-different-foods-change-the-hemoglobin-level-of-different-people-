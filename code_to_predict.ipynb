{
 "cells": [
  {
   "cell_type": "markdown",
   "metadata": {},
   "source": [
    "# Import modules"
   ]
  },
  {
   "cell_type": "code",
   "execution_count": 9,
   "metadata": {},
   "outputs": [],
   "source": [
    "import pickle\n",
    "import pandas as pd"
   ]
  },
  {
   "cell_type": "markdown",
   "metadata": {},
   "source": [
    "# Load pkl file "
   ]
  },
  {
   "cell_type": "code",
   "execution_count": 12,
   "metadata": {},
   "outputs": [],
   "source": [
    "#----model name----\n",
    "model_pkl_mult='multilinear_regression_model.pkl'"
   ]
  },
  {
   "cell_type": "code",
   "execution_count": 13,
   "metadata": {},
   "outputs": [],
   "source": [
    "#----load prediction model-----\n",
    "with open(model_pkl_mult,'rb') as model_pkl:\n",
    "     prediction_model=pickle.load(model_pkl)"
   ]
  },
  {
   "cell_type": "markdown",
   "metadata": {},
   "source": [
    "# Examples\n"
   ]
  },
  {
   "cell_type": "markdown",
   "metadata": {},
   "source": [
    "# 1) Blue chees\n",
    "\n"
   ]
  },
  {
   "cell_type": "markdown",
   "metadata": {},
   "source": [
    "create new data set of parameters of Blue chees"
   ]
  },
  {
   "cell_type": "code",
   "execution_count": 14,
   "metadata": {},
   "outputs": [],
   "source": [
    "m=10 # weight in gramms\n",
    "k=m/100;\n",
    "new_data=pd.DataFrame(data={'Calcium':[k*242], 'C':[k*0.0], 'B6':[k*0.166], 'B12':[k*1.22], 'Iron':[k*0.31], 'Protein':[k*21.4]})\n",
    "output=prediction_model.predict(new_data)\n",
    "start=['145','135','120','175']"
   ]
  },
  {
   "cell_type": "markdown",
   "metadata": {},
   "source": [
    "prediction "
   ]
  },
  {
   "cell_type": "code",
   "execution_count": 15,
   "metadata": {},
   "outputs": [
    {
     "data": {
      "text/html": [
       "<div>\n",
       "<style scoped>\n",
       "    .dataframe tbody tr th:only-of-type {\n",
       "        vertical-align: middle;\n",
       "    }\n",
       "\n",
       "    .dataframe tbody tr th {\n",
       "        vertical-align: top;\n",
       "    }\n",
       "\n",
       "    .dataframe thead th {\n",
       "        text-align: right;\n",
       "    }\n",
       "</style>\n",
       "<table border=\"1\" class=\"dataframe\">\n",
       "  <thead>\n",
       "    <tr style=\"text-align: right;\">\n",
       "      <th></th>\n",
       "      <th></th>\n",
       "      <th>Healthy</th>\n",
       "      <th>Stomach</th>\n",
       "      <th>Pregnant</th>\n",
       "      <th>Mountain</th>\n",
       "    </tr>\n",
       "  </thead>\n",
       "  <tbody>\n",
       "    <tr>\n",
       "      <th>0</th>\n",
       "      <td>Before</td>\n",
       "      <td>145</td>\n",
       "      <td>135</td>\n",
       "      <td>120</td>\n",
       "      <td>175</td>\n",
       "    </tr>\n",
       "    <tr>\n",
       "      <th>1</th>\n",
       "      <td>After</td>\n",
       "      <td>145.464</td>\n",
       "      <td>135.325</td>\n",
       "      <td>120.232</td>\n",
       "      <td>175.464</td>\n",
       "    </tr>\n",
       "  </tbody>\n",
       "</table>\n",
       "</div>"
      ],
      "text/plain": [
       "           Healthy  Stomach Pregnant Mountain\n",
       "0  Before      145      135      120      175\n",
       "1   After  145.464  135.325  120.232  175.464"
      ]
     },
     "execution_count": 15,
     "metadata": {},
     "output_type": "execute_result"
    }
   ],
   "source": [
    "output_data=pd.DataFrame({'':['Before','After'],'Healthy':[start[0],output[0][0]],'Stomach':[start[1],output[0][1]],'Pregnant':[start[2],output[0][2]],'Mountain':[start[3],output[0][3]]})\n",
    "output_data"
   ]
  },
  {
   "cell_type": "markdown",
   "metadata": {},
   "source": [
    "# 2) chicken liver \n"
   ]
  },
  {
   "cell_type": "markdown",
   "metadata": {},
   "source": [
    " create new data set of parameters of chicken liver "
   ]
  },
  {
   "cell_type": "code",
   "execution_count": 16,
   "metadata": {},
   "outputs": [],
   "source": [
    "m=50 # weight in gramms\n",
    "k=m/100;\n",
    "new_data=pd.DataFrame(data={'Calcium':[k*15], 'C':[k*13], 'B6':[k*0.9], 'B12':[k*16.58], 'Iron':[k*17.5], 'Protein':[k*20.4]})\n",
    "output=prediction_model.predict(new_data)\n"
   ]
  },
  {
   "cell_type": "markdown",
   "metadata": {},
   "source": [
    "prediction of class"
   ]
  },
  {
   "cell_type": "code",
   "execution_count": 17,
   "metadata": {},
   "outputs": [
    {
     "data": {
      "text/html": [
       "<div>\n",
       "<style scoped>\n",
       "    .dataframe tbody tr th:only-of-type {\n",
       "        vertical-align: middle;\n",
       "    }\n",
       "\n",
       "    .dataframe tbody tr th {\n",
       "        vertical-align: top;\n",
       "    }\n",
       "\n",
       "    .dataframe thead th {\n",
       "        text-align: right;\n",
       "    }\n",
       "</style>\n",
       "<table border=\"1\" class=\"dataframe\">\n",
       "  <thead>\n",
       "    <tr style=\"text-align: right;\">\n",
       "      <th></th>\n",
       "      <th></th>\n",
       "      <th>Healthy</th>\n",
       "      <th>Stomach</th>\n",
       "      <th>Pregnant</th>\n",
       "      <th>Mountain</th>\n",
       "    </tr>\n",
       "  </thead>\n",
       "  <tbody>\n",
       "    <tr>\n",
       "      <th>0</th>\n",
       "      <td>Before</td>\n",
       "      <td>145</td>\n",
       "      <td>135</td>\n",
       "      <td>120</td>\n",
       "      <td>175</td>\n",
       "    </tr>\n",
       "    <tr>\n",
       "      <th>1</th>\n",
       "      <td>After</td>\n",
       "      <td>147.197</td>\n",
       "      <td>136.538</td>\n",
       "      <td>121.098</td>\n",
       "      <td>177.197</td>\n",
       "    </tr>\n",
       "  </tbody>\n",
       "</table>\n",
       "</div>"
      ],
      "text/plain": [
       "           Healthy  Stomach Pregnant Mountain\n",
       "0  Before      145      135      120      175\n",
       "1   After  147.197  136.538  121.098  177.197"
      ]
     },
     "execution_count": 17,
     "metadata": {},
     "output_type": "execute_result"
    }
   ],
   "source": [
    "output_data=pd.DataFrame({'':['Before','After'],'Healthy':[start[0],output[0][0]],'Stomach':[start[1],output[0][1]],'Pregnant':[start[2],output[0][2]],'Mountain':[start[3],output[0][3]]})\n",
    "output_data"
   ]
  },
  {
   "cell_type": "code",
   "execution_count": null,
   "metadata": {},
   "outputs": [],
   "source": []
  },
  {
   "cell_type": "code",
   "execution_count": null,
   "metadata": {},
   "outputs": [],
   "source": []
  }
 ],
 "metadata": {
  "kernelspec": {
   "display_name": "Python 3",
   "language": "python",
   "name": "python3"
  },
  "language_info": {
   "codemirror_mode": {
    "name": "ipython",
    "version": 3
   },
   "file_extension": ".py",
   "mimetype": "text/x-python",
   "name": "python",
   "nbconvert_exporter": "python",
   "pygments_lexer": "ipython3",
   "version": "3.7.2"
  }
 },
 "nbformat": 4,
 "nbformat_minor": 2
}
